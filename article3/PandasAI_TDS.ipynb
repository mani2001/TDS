{
 "cells": [
  {
   "cell_type": "code",
   "execution_count": 1,
   "id": "73e2729e",
   "metadata": {},
   "outputs": [],
   "source": [
    "#import pandasAI and other libs\n",
    "import pandas as pd\n",
    "from pandasai import PandasAI\n",
    "from pandasai.llm.openai import OpenAI\n",
    "import numpy as np"
   ]
  },
  {
   "cell_type": "code",
   "execution_count": 4,
   "id": "b1585a1a",
   "metadata": {},
   "outputs": [
    {
     "data": {
      "text/html": [
       "<div>\n",
       "<style scoped>\n",
       "    .dataframe tbody tr th:only-of-type {\n",
       "        vertical-align: middle;\n",
       "    }\n",
       "\n",
       "    .dataframe tbody tr th {\n",
       "        vertical-align: top;\n",
       "    }\n",
       "\n",
       "    .dataframe thead th {\n",
       "        text-align: right;\n",
       "    }\n",
       "</style>\n",
       "<table border=\"1\" class=\"dataframe\">\n",
       "  <thead>\n",
       "    <tr style=\"text-align: right;\">\n",
       "      <th></th>\n",
       "      <th>Unnamed: 0</th>\n",
       "      <th>Rank</th>\n",
       "      <th>Country</th>\n",
       "      <th>Cultivated land (km2)</th>\n",
       "      <th>Cultivated land (%)</th>\n",
       "      <th>Arable land (km2)</th>\n",
       "      <th>Arable land (%)</th>\n",
       "      <th>Permanent crops (km2)</th>\n",
       "      <th>Permanent crops (%)</th>\n",
       "      <th>Other lands (km2)</th>\n",
       "      <th>Other lands (%)</th>\n",
       "      <th>Total area (km2)</th>\n",
       "      <th>Date</th>\n",
       "    </tr>\n",
       "  </thead>\n",
       "  <tbody>\n",
       "    <tr>\n",
       "      <th>0</th>\n",
       "      <td>0</td>\n",
       "      <td></td>\n",
       "      <td>World</td>\n",
       "      <td>17235800</td>\n",
       "      <td>11.6</td>\n",
       "      <td>15827534</td>\n",
       "      <td>10.7</td>\n",
       "      <td>1549600</td>\n",
       "      <td>1.0</td>\n",
       "      <td>131.701.100</td>\n",
       "      <td>88.4</td>\n",
       "      <td>149000000.0</td>\n",
       "      <td>2011</td>\n",
       "    </tr>\n",
       "    <tr>\n",
       "      <th>1</th>\n",
       "      <td>1</td>\n",
       "      <td>1</td>\n",
       "      <td>India</td>\n",
       "      <td>1765260</td>\n",
       "      <td>53.7</td>\n",
       "      <td>1656780</td>\n",
       "      <td>50.4</td>\n",
       "      <td>108479</td>\n",
       "      <td>3.3</td>\n",
       "      <td>1522002</td>\n",
       "      <td>46.3</td>\n",
       "      <td>3287263.0</td>\n",
       "      <td>2020</td>\n",
       "    </tr>\n",
       "    <tr>\n",
       "      <th>2</th>\n",
       "      <td>2</td>\n",
       "      <td>2</td>\n",
       "      <td>United States</td>\n",
       "      <td>1681826</td>\n",
       "      <td>17.1</td>\n",
       "      <td>1652028</td>\n",
       "      <td>16.8</td>\n",
       "      <td>29798</td>\n",
       "      <td>0.3</td>\n",
       "      <td>8151691</td>\n",
       "      <td>82.9</td>\n",
       "      <td>9833517.0</td>\n",
       "      <td>2020</td>\n",
       "    </tr>\n",
       "    <tr>\n",
       "      <th>3</th>\n",
       "      <td>3</td>\n",
       "      <td>3</td>\n",
       "      <td>Russia</td>\n",
       "      <td>1265267</td>\n",
       "      <td>7.4</td>\n",
       "      <td>1248169</td>\n",
       "      <td>7.3</td>\n",
       "      <td>17098</td>\n",
       "      <td>0.1</td>\n",
       "      <td>15832975</td>\n",
       "      <td>92.6</td>\n",
       "      <td>17098242.0</td>\n",
       "      <td>2011</td>\n",
       "    </tr>\n",
       "    <tr>\n",
       "      <th>4</th>\n",
       "      <td>4</td>\n",
       "      <td>4</td>\n",
       "      <td>China</td>\n",
       "      <td>1238013</td>\n",
       "      <td>12.9</td>\n",
       "      <td>1084461</td>\n",
       "      <td>11.3</td>\n",
       "      <td>153552</td>\n",
       "      <td>1.6</td>\n",
       "      <td>8358947</td>\n",
       "      <td>87.1</td>\n",
       "      <td>9596960.0</td>\n",
       "      <td>2011</td>\n",
       "    </tr>\n",
       "  </tbody>\n",
       "</table>\n",
       "</div>"
      ],
      "text/plain": [
       "   Unnamed: 0 Rank        Country  Cultivated land (km2)  Cultivated land (%)  \\\n",
       "0           0               World               17235800                 11.6   \n",
       "1           1    1          India                1765260                 53.7   \n",
       "2           2    2  United States                1681826                 17.1   \n",
       "3           3    3         Russia                1265267                  7.4   \n",
       "4           4    4          China                1238013                 12.9   \n",
       "\n",
       "   Arable land (km2)  Arable land (%)  Permanent crops (km2)  \\\n",
       "0           15827534             10.7                1549600   \n",
       "1            1656780             50.4                 108479   \n",
       "2            1652028             16.8                  29798   \n",
       "3            1248169              7.3                  17098   \n",
       "4            1084461             11.3                 153552   \n",
       "\n",
       "   Permanent crops (%) Other lands (km2)  Other lands (%)  Total area (km2)  \\\n",
       "0                  1.0       131.701.100             88.4       149000000.0   \n",
       "1                  3.3           1522002             46.3         3287263.0   \n",
       "2                  0.3           8151691             82.9         9833517.0   \n",
       "3                  0.1          15832975             92.6        17098242.0   \n",
       "4                  1.6           8358947             87.1         9596960.0   \n",
       "\n",
       "   Date  \n",
       "0  2011  \n",
       "1  2020  \n",
       "2  2020  \n",
       "3  2011  \n",
       "4  2011  "
      ]
     },
     "execution_count": 4,
     "metadata": {},
     "output_type": "execute_result"
    }
   ],
   "source": [
    "#load land use dataset(kaggle)\n",
    "\n",
    "dataset = pd.read_csv('land_use_stats.csv')\n",
    "dataset.head()"
   ]
  },
  {
   "cell_type": "code",
   "execution_count": 2,
   "id": "aa0992f5",
   "metadata": {},
   "outputs": [],
   "source": [
    "#initialize the llm\n",
    "llm = OpenAI(api_token=\"Your_API_token\")\n",
    "query_object = PandasAI(llm)"
   ]
  },
  {
   "cell_type": "code",
   "execution_count": 10,
   "id": "98765217",
   "metadata": {},
   "outputs": [
    {
     "data": {
      "text/plain": [
       "Unnamed: 0                         0\n",
       "Rank                                \n",
       "Country                        World\n",
       "Cultivated land (km2)       17235800\n",
       "Cultivated land (%)             11.6\n",
       "Arable land (km2)           15827534\n",
       "Arable land (%)                 10.7\n",
       "Permanent crops (km2)        1549600\n",
       "Permanent crops (%)              1.0\n",
       "Other lands (km2)        131.701.100\n",
       "Other lands (%)                 88.4\n",
       "Total area (km2)         149000000.0\n",
       "Date                            2011\n",
       "Name: 0, dtype: object"
      ]
     },
     "execution_count": 10,
     "metadata": {},
     "output_type": "execute_result"
    }
   ],
   "source": [
    "#return the first row\n",
    "query_object(dataset,prompt='return the first row')"
   ]
  },
  {
   "cell_type": "code",
   "execution_count": 8,
   "id": "d07bd695",
   "metadata": {},
   "outputs": [
    {
     "data": {
      "text/html": [
       "<div>\n",
       "<style scoped>\n",
       "    .dataframe tbody tr th:only-of-type {\n",
       "        vertical-align: middle;\n",
       "    }\n",
       "\n",
       "    .dataframe tbody tr th {\n",
       "        vertical-align: top;\n",
       "    }\n",
       "\n",
       "    .dataframe thead th {\n",
       "        text-align: right;\n",
       "    }\n",
       "</style>\n",
       "<table border=\"1\" class=\"dataframe\">\n",
       "  <thead>\n",
       "    <tr style=\"text-align: right;\">\n",
       "      <th></th>\n",
       "      <th>Unnamed: 0</th>\n",
       "      <th>Rank</th>\n",
       "      <th>Country</th>\n",
       "      <th>Cultivated land (km2)</th>\n",
       "      <th>Cultivated land (%)</th>\n",
       "      <th>Arable land (km2)</th>\n",
       "      <th>Arable land (%)</th>\n",
       "      <th>Permanent crops (km2)</th>\n",
       "      <th>Permanent crops (%)</th>\n",
       "      <th>Other lands (km2)</th>\n",
       "      <th>Other lands (%)</th>\n",
       "      <th>Total area (km2)</th>\n",
       "      <th>Date</th>\n",
       "    </tr>\n",
       "  </thead>\n",
       "  <tbody>\n",
       "    <tr>\n",
       "      <th>0</th>\n",
       "      <td>0</td>\n",
       "      <td></td>\n",
       "      <td>World</td>\n",
       "      <td>17235800</td>\n",
       "      <td>11.6</td>\n",
       "      <td>15827534</td>\n",
       "      <td>10.7</td>\n",
       "      <td>1549600</td>\n",
       "      <td>1.0</td>\n",
       "      <td>131.701.100</td>\n",
       "      <td>88.4</td>\n",
       "      <td>149000000.0</td>\n",
       "      <td>2011</td>\n",
       "    </tr>\n",
       "    <tr>\n",
       "      <th>1</th>\n",
       "      <td>1</td>\n",
       "      <td>1</td>\n",
       "      <td>India</td>\n",
       "      <td>1765260</td>\n",
       "      <td>53.7</td>\n",
       "      <td>1656780</td>\n",
       "      <td>50.4</td>\n",
       "      <td>108479</td>\n",
       "      <td>3.3</td>\n",
       "      <td>1522002</td>\n",
       "      <td>46.3</td>\n",
       "      <td>3287263.0</td>\n",
       "      <td>2020</td>\n",
       "    </tr>\n",
       "    <tr>\n",
       "      <th>2</th>\n",
       "      <td>2</td>\n",
       "      <td>2</td>\n",
       "      <td>United States</td>\n",
       "      <td>1681826</td>\n",
       "      <td>17.1</td>\n",
       "      <td>1652028</td>\n",
       "      <td>16.8</td>\n",
       "      <td>29798</td>\n",
       "      <td>0.3</td>\n",
       "      <td>8151691</td>\n",
       "      <td>82.9</td>\n",
       "      <td>9833517.0</td>\n",
       "      <td>2020</td>\n",
       "    </tr>\n",
       "    <tr>\n",
       "      <th>3</th>\n",
       "      <td>3</td>\n",
       "      <td>3</td>\n",
       "      <td>Russia</td>\n",
       "      <td>1265267</td>\n",
       "      <td>7.4</td>\n",
       "      <td>1248169</td>\n",
       "      <td>7.3</td>\n",
       "      <td>17098</td>\n",
       "      <td>0.1</td>\n",
       "      <td>15832975</td>\n",
       "      <td>92.6</td>\n",
       "      <td>17098242.0</td>\n",
       "      <td>2011</td>\n",
       "    </tr>\n",
       "    <tr>\n",
       "      <th>4</th>\n",
       "      <td>4</td>\n",
       "      <td>4</td>\n",
       "      <td>China</td>\n",
       "      <td>1238013</td>\n",
       "      <td>12.9</td>\n",
       "      <td>1084461</td>\n",
       "      <td>11.3</td>\n",
       "      <td>153552</td>\n",
       "      <td>1.6</td>\n",
       "      <td>8358947</td>\n",
       "      <td>87.1</td>\n",
       "      <td>9596960.0</td>\n",
       "      <td>2011</td>\n",
       "    </tr>\n",
       "  </tbody>\n",
       "</table>\n",
       "</div>"
      ],
      "text/plain": [
       "   Unnamed: 0 Rank        Country  Cultivated land (km2)  Cultivated land (%)  \\\n",
       "0           0               World               17235800                 11.6   \n",
       "1           1    1          India                1765260                 53.7   \n",
       "2           2    2  United States                1681826                 17.1   \n",
       "3           3    3         Russia                1265267                  7.4   \n",
       "4           4    4          China                1238013                 12.9   \n",
       "\n",
       "   Arable land (km2)  Arable land (%)  Permanent crops (km2)  \\\n",
       "0           15827534             10.7                1549600   \n",
       "1            1656780             50.4                 108479   \n",
       "2            1652028             16.8                  29798   \n",
       "3            1248169              7.3                  17098   \n",
       "4            1084461             11.3                 153552   \n",
       "\n",
       "   Permanent crops (%) Other lands (km2)  Other lands (%)  Total area (km2)  \\\n",
       "0                  1.0       131.701.100             88.4       149000000.0   \n",
       "1                  3.3           1522002             46.3         3287263.0   \n",
       "2                  0.3           8151691             82.9         9833517.0   \n",
       "3                  0.1          15832975             92.6        17098242.0   \n",
       "4                  1.6           8358947             87.1         9596960.0   \n",
       "\n",
       "   Date  \n",
       "0  2011  \n",
       "1  2020  \n",
       "2  2020  \n",
       "3  2011  \n",
       "4  2011  "
      ]
     },
     "execution_count": 8,
     "metadata": {},
     "output_type": "execute_result"
    }
   ],
   "source": [
    "dataset.head()"
   ]
  },
  {
   "cell_type": "code",
   "execution_count": 11,
   "id": "57fdbf3e",
   "metadata": {},
   "outputs": [
    {
     "data": {
      "text/plain": [
       "7.4"
      ]
     },
     "execution_count": 11,
     "metadata": {},
     "output_type": "execute_result"
    }
   ],
   "source": [
    "#russia land percentage query\n",
    "query_object(dataset,prompt='what % of cultivated land does russia have')"
   ]
  },
  {
   "cell_type": "code",
   "execution_count": 17,
   "id": "aa408560",
   "metadata": {},
   "outputs": [],
   "source": [
    "#replicating basic arithmetic queries\n",
    "sum_permanent_crops = dataset.iloc[10,7] + dataset.iloc[26,7] + dataset.iloc[32,7]"
   ]
  },
  {
   "cell_type": "code",
   "execution_count": 18,
   "id": "220bf9c8",
   "metadata": {},
   "outputs": [
    {
     "data": {
      "text/plain": [
       "22917"
      ]
     },
     "execution_count": 18,
     "metadata": {},
     "output_type": "execute_result"
    }
   ],
   "source": [
    "sum_permanent_crops"
   ]
  },
  {
   "cell_type": "code",
   "execution_count": 19,
   "id": "75317295",
   "metadata": {},
   "outputs": [
    {
     "data": {
      "text/plain": [
       "22917"
      ]
     },
     "execution_count": 19,
     "metadata": {},
     "output_type": "execute_result"
    }
   ],
   "source": [
    "#using pandasAI\n",
    "query_object(dataset,prompt='what is the sum of the permanent crops of Argentina, Germany, and Bangladesh')"
   ]
  },
  {
   "cell_type": "code",
   "execution_count": 56,
   "id": "11754e88",
   "metadata": {},
   "outputs": [],
   "source": [
    "#a little harder\n",
    "data_2011_ara = dataset[(dataset['Date']==2011) & (dataset['Arable land (%)']<8)]"
   ]
  },
  {
   "cell_type": "code",
   "execution_count": 61,
   "id": "3e13a00e",
   "metadata": {},
   "outputs": [
    {
     "data": {
      "text/plain": [
       "5    Brazil\n",
       "Name: Country, dtype: object"
      ]
     },
     "execution_count": 61,
     "metadata": {},
     "output_type": "execute_result"
    }
   ],
   "source": [
    "data_2011_ara[data_2011_ara['Permanent crops (km2)'] == data_2011_ara['Permanent crops (km2)'].max(axis=0)].Country"
   ]
  },
  {
   "cell_type": "code",
   "execution_count": 53,
   "id": "f8dbaed6",
   "metadata": {},
   "outputs": [
    {
     "data": {
      "text/plain": [
       "'Brazil'"
      ]
     },
     "execution_count": 53,
     "metadata": {},
     "output_type": "execute_result"
    }
   ],
   "source": [
    "#using pandasAI\n",
    "query_object(dataset,prompt='country with date 2011 where arable land % is less than 8 with the most permanent crops')"
   ]
  },
  {
   "cell_type": "code",
   "execution_count": 70,
   "id": "0509504e",
   "metadata": {},
   "outputs": [
    {
     "data": {
      "text/plain": [
       "array([  2235.,  71740., 438317.])"
      ]
     },
     "execution_count": 70,
     "metadata": {},
     "output_type": "execute_result"
    }
   ],
   "source": [
    "#getting the quartiles of a column\n",
    "total_area = pd.Series(dataset['Total area (km2)'])\n",
    "np.percentile(total_area,q=[25, 50, 75])"
   ]
  },
  {
   "cell_type": "code",
   "execution_count": 72,
   "id": "719e2d97",
   "metadata": {},
   "outputs": [
    {
     "data": {
      "text/plain": [
       "0.25      2235.0\n",
       "0.50     71740.0\n",
       "0.75    438317.0\n",
       "Name: Total area (km2), dtype: float64"
      ]
     },
     "execution_count": 72,
     "metadata": {},
     "output_type": "execute_result"
    }
   ],
   "source": [
    "#using pandasAI\n",
    "query_object(dataset,prompt='get the first, second and third quartile values of the column- Total Area')"
   ]
  },
  {
   "cell_type": "code",
   "execution_count": 78,
   "id": "bcf47df2",
   "metadata": {},
   "outputs": [
    {
     "data": {
      "image/png": "[encoded data removed]",
      "text/plain": [
       "<Figure size 640x480 with 1 Axes>"
      ]
     },
     "metadata": {},
     "output_type": "display_data"
    }
   ],
   "source": [
    "#histogram\n",
    "query_object(dataset,prompt='plot a bar graph of countries having an arable land greater than 600000 according to the permanent crops km2 feature in different colors except world')"
   ]
  },
  {
   "cell_type": "code",
   "execution_count": 5,
   "id": "b29f2004",
   "metadata": {},
   "outputs": [
    {
     "data": {
      "text/plain": [
       "4064531"
      ]
     },
     "execution_count": 5,
     "metadata": {},
     "output_type": "execute_result"
    }
   ],
   "source": [
    "#prediction \n",
    "query_object(dataset,prompt='for a country with % permanent crops >2 predict the total arable land')"
   ]
  },
  {
   "cell_type": "code",
   "execution_count": 7,
   "id": "71bcfdac",
   "metadata": {},
   "outputs": [
    {
     "name": "stdout",
     "output_type": "stream",
     "text": [
      "Generated code includes import of LinearRegression which is not in whitelist.\n"
     ]
    },
    {
     "data": {
      "text/plain": [
       "'Unfortunately, I was not able to answer your question, because of the following error:\\n\\nGenerated code includes import of LinearRegression which is not in whitelist.\\n'"
      ]
     },
     "execution_count": 7,
     "metadata": {},
     "output_type": "execute_result"
    }
   ],
   "source": [
    "query_object(dataset,prompt='find arable land for a country with 2% permanent crops using linear regression')"
   ]
  }
 ],
 "metadata": {
  "kernelspec": {
   "display_name": "Python 3 (ipykernel)",
   "language": "python",
   "name": "python3"
  },
  "language_info": {
   "codemirror_mode": {
    "name": "ipython",
    "version": 3
   },
   "file_extension": ".py",
   "mimetype": "text/x-python",
   "name": "python",
   "nbconvert_exporter": "python",
   "pygments_lexer": "ipython3",
   "version": "3.9.16"
  }
 },
 "nbformat": 4,
 "nbformat_minor": 5
}
