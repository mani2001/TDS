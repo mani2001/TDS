{
 "cells": [
  {
   "cell_type": "markdown",
   "id": "16072107",
   "metadata": {},
   "source": [
    "# Value Iteration"
   ]
  },
  {
   "cell_type": "code",
   "execution_count": 42,
   "id": "2179d036",
   "metadata": {},
   "outputs": [],
   "source": [
    "actions = ['up','middle','down']\n",
    "states = [[0,1,2,3,4,5,6,7,8,9],\n",
    "         [10,11,12,13,14,15,16,17,18,19],\n",
    "         [20,21,22,23,24,25,26,27,28,29]]\n",
    "rewards = [[1,0,1,1,1,0,0,1,1,1],\n",
    "           [1,1,0,1,1,1,1,0,1,1],\n",
    "           [1,0,0,0,0,1,0,1,0,1]]"
   ]
  },
  {
   "cell_type": "code",
   "execution_count": 43,
   "id": "99e031c3",
   "metadata": {},
   "outputs": [],
   "source": [
    "V = [[0,0,0,0,0,0,0,0,0,0],[0,0,0,0,0,0,0,0,0,0],[0,0,0,0,0,0,0,0,0,0]]\n",
    "policy = [['down','down','down','down','down','down','down','down','down','down'],\n",
    "          ['down','down','down','down','down','down','down','down','down','down'],\n",
    "          ['down','down','down','down','down','down','down','down','down','down']]\n",
    "delta = 1e-400\n",
    "episodes = 10000\n",
    "gamma = 0.9\n",
    "terminal_states = [states[0][9],states[1][9],states[2][9]]"
   ]
  },
  {
   "cell_type": "code",
   "execution_count": 44,
   "id": "fe9b70ef",
   "metadata": {},
   "outputs": [],
   "source": [
    "for episode in range(episodes):\n",
    "    max_diff = 0\n",
    "    V_new = [[0,0,0,0,0,0,0,0,0,0],[0,0,0,0,0,0,0,0,0,0],[0,0,0,0,0,0,0,0,0,0]]\n",
    "    for i in range(len(states)):\n",
    "        for j in range(len(states[i])):\n",
    "            max_val = 0\n",
    "            if(states[i][j] in terminal_states):\n",
    "                continue\n",
    "            else:\n",
    "                for a in actions:\n",
    "                    val = rewards[i][j]\n",
    "                    if(a=='up'):\n",
    "                        val+= 0.33*(gamma*V[0][j+1])\n",
    "                    elif(a=='middle'):\n",
    "                        val+= 0.33*(gamma*V[1][j+1])\n",
    "                    else:\n",
    "                        val+= 0.33*(gamma*V[2][j+1])\n",
    "                    max_val = max(max_val,val)\n",
    "                    if(V[i][j]<val):\n",
    "                        policy[i][j]=a\n",
    "                V_new[i][j] = max_val\n",
    "                max_diff = max(max_diff, abs(V[i][j] - V_new[i][j]))\n",
    "    V = V_new\n",
    "    \n",
    "    if max_diff<delta:\n",
    "        break"
   ]
  },
  {
   "cell_type": "code",
   "execution_count": 45,
   "id": "fb5b26c8",
   "metadata": {},
   "outputs": [
    {
     "name": "stdout",
     "output_type": "stream",
     "text": [
      "['middle', 'up', 'middle', 'middle', 'down', 'middle', 'down', 'middle', 'down', 'down']\n",
      "['middle', 'up', 'middle', 'middle', 'down', 'middle', 'down', 'middle', 'down', 'down']\n",
      "['middle', 'up', 'middle', 'middle', 'down', 'middle', 'down', 'middle', 'down', 'down']\n"
     ]
    }
   ],
   "source": [
    "print(policy[0])\n",
    "print(policy[1])\n",
    "print(policy[2])"
   ]
  },
  {
   "cell_type": "code",
   "execution_count": 46,
   "id": "ae3df9de",
   "metadata": {},
   "outputs": [
    {
     "name": "stdout",
     "output_type": "stream",
     "text": [
      "[[1.422449529502159, 0.42238898822275767, 1.4221851455311705, 1.4214988065022571, 1.419187900681, 0.41140707300000007, 0.3852090000000001, 1.2970000000000002, 1.0, 0], [1.422449529502159, 1.4223889882227576, 0.42218514553117037, 1.4214988065022571, 1.419187900681, 1.4114070730000001, 1.3852090000000001, 0.29700000000000004, 1.0, 0], [1.422449529502159, 0.42238898822275767, 0.42218514553117037, 0.421498806502257, 0.4191879006810001, 1.4114070730000001, 0.3852090000000001, 1.2970000000000002, 0, 0]]\n"
     ]
    }
   ],
   "source": [
    "print(V_new)"
   ]
  }
 ],
 "metadata": {
  "kernelspec": {
   "display_name": "Python 3 (ipykernel)",
   "language": "python",
   "name": "python3"
  },
  "language_info": {
   "codemirror_mode": {
    "name": "ipython",
    "version": 3
   },
   "file_extension": ".py",
   "mimetype": "text/x-python",
   "name": "python",
   "nbconvert_exporter": "python",
   "pygments_lexer": "ipython3",
   "version": "3.9.16"
  }
 },
 "nbformat": 4,
 "nbformat_minor": 5
}
